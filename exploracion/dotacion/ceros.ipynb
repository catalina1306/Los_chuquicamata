{
 "cells": [
  {
   "cell_type": "code",
   "execution_count": 3,
   "id": "301a00c8-f359-4eff-b31f-533ce24c143e",
   "metadata": {},
   "outputs": [],
   "source": [
    "import pandas as pd"
   ]
  },
  {
   "cell_type": "code",
   "execution_count": 9,
   "id": "e25e4150-23b9-4fde-959a-8becc9789e93",
   "metadata": {},
   "outputs": [],
   "source": [
    "df_docentes_ = pd.read_csv(\"df_docentes.csv\", sep=None, engine='python')"
   ]
  },
  {
   "cell_type": "code",
   "execution_count": null,
   "id": "1460be6f-83e0-4c30-a19d-b7f97c0dfd49",
   "metadata": {},
   "outputs": [],
   "source": []
  }
 ],
 "metadata": {
  "kernelspec": {
   "display_name": "Python 3 (ipykernel)",
   "language": "python",
   "name": "python3"
  },
  "language_info": {
   "codemirror_mode": {
    "name": "ipython",
    "version": 3
   },
   "file_extension": ".py",
   "mimetype": "text/x-python",
   "name": "python",
   "nbconvert_exporter": "python",
   "pygments_lexer": "ipython3",
   "version": "3.12.4"
  }
 },
 "nbformat": 4,
 "nbformat_minor": 5
}
