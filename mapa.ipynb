{
 "cells": [
  {
   "cell_type": "code",
   "execution_count": 13,
   "id": "77d54330-dcfd-40d9-b578-93ae86bdeb90",
   "metadata": {},
   "outputs": [
    {
     "data": {
      "text/html": [
       "\n",
       "        <iframe\n",
       "            width=\"800\"\n",
       "            height=\"600\"\n",
       "            src=\"mapa.html\"\n",
       "            frameborder=\"0\"\n",
       "            allowfullscreen\n",
       "            \n",
       "        ></iframe>\n",
       "        "
      ],
      "text/plain": [
       "<IPython.lib.display.IFrame at 0x123ddaa3650>"
      ]
     },
     "metadata": {},
     "output_type": "display_data"
    }
   ],
   "source": [
    "from IPython.display import IFrame  # Asegúrate de importar IFrame correctamente\n",
    "import folium\n",
    "from IPython.display import display\n",
    "\n",
    "# Cargar el mapa HTML\n",
    "map_file = \"mapa.html\"\n",
    "\n",
    "# Mostrar el mapa usando folium (este método es útil si necesitas manipular el mapa en el futuro)\n",
    "m = folium.Map(location=[-33.45, -70.65], zoom_start=16)  # Solo si necesitas volver a crear el mapa, usa la ubicación por defecto\n",
    "\n",
    "# Mostrar el archivo HTML del mapa en el notebook\n",
    "display(IFrame(map_file, width=800, height=600))"
   ]
  }
 ],
 "metadata": {
  "kernelspec": {
   "display_name": "Python 3 (ipykernel)",
   "language": "python",
   "name": "python3"
  },
  "language_info": {
   "codemirror_mode": {
    "name": "ipython",
    "version": 3
   },
   "file_extension": ".py",
   "mimetype": "text/x-python",
   "name": "python",
   "nbconvert_exporter": "python",
   "pygments_lexer": "ipython3",
   "version": "3.12.4"
  }
 },
 "nbformat": 4,
 "nbformat_minor": 5
}
